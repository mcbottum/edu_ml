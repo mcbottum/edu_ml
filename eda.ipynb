{
 "cells": [
  {
   "cell_type": "code",
   "execution_count": 17,
   "metadata": {},
   "outputs": [],
   "source": [
    "import pandas as pd\n",
    "import numpy as np\n",
    "import matplotlib.pyplot as plt\n",
    "from pathlib import Path\n",
    "import os\n",
    "\n",
    "import scipy.stats as st\n",
    "import statsmodels.api as sm\n",
    "import statsmodels.graphics.tsaplots as tsap\n",
    "from statsmodels.compat import lzip\n",
    "from statsmodels.stats.diagnostic import het_white\n",
    "import seaborn as sns\n",
    "import glob, os\n",
    "\n",
    "pd.set_option(\"display.max_columns\", None)"
   ]
  },
  {
   "cell_type": "code",
   "execution_count": 185,
   "metadata": {},
   "outputs": [],
   "source": [
    "path = Path(os.getcwd())\n",
    "data_path = path / \"data\""
   ]
  },
  {
   "cell_type": "code",
   "execution_count": 25,
   "metadata": {},
   "outputs": [],
   "source": [
    "achieve_df = pd.concat([\n",
    "    pd.read_csv(path/fn, sep=\"\\t\")\n",
    "    for fn in glob.glob(\"data/*school_reportcard_data*\")\n",
    "])"
   ]
  },
  {
   "cell_type": "code",
   "execution_count": 24,
   "metadata": {},
   "outputs": [],
   "source": [
    "act_df = pd.concat([\n",
    "    pd.read_csv(path/fn)\n",
    "    for fn in glob.glob(\"data/*act_statewide_certified*\")\n",
    "])"
   ]
  },
  {
   "cell_type": "code",
   "execution_count": 99,
   "metadata": {},
   "outputs": [
    {
     "name": "stdout",
     "output_type": "stream",
     "text": [
      "(739728, 21)\n",
      "(739728, 21)\n"
     ]
    }
   ],
   "source": [
    "print(act_df.shape)\n",
    "act_df = act_df.dropna(subset=[\"AVERAGE_SCORE\", \"SCHOOL_CODE\"])\n",
    "act_df['UNIQUE_CODE'] = act_df['DISTRICT_CODE'] + act_df['SCHOOL_CODE']\n",
    "print(act_df.shape)"
   ]
  },
  {
   "cell_type": "code",
   "execution_count": 112,
   "metadata": {},
   "outputs": [],
   "source": [
    "#full_df = achieve_df.merge(act_df, left_on=['District Code', 'School Code'], right_on=['DISTRICT_CODE', 'SCHOOL_CODE'])"
   ]
  },
  {
   "cell_type": "code",
   "execution_count": null,
   "metadata": {},
   "outputs": [],
   "source": [
    "full_df.shape, achieve_df.shape, act_df.shape"
   ]
  },
  {
   "cell_type": "code",
   "execution_count": 178,
   "metadata": {},
   "outputs": [
    {
     "data": {
      "text/plain": [
       "['SCHOOL_YEAR',\n",
       " 'AGENCY_TYPE',\n",
       " 'CESA',\n",
       " 'COUNTY',\n",
       " 'DISTRICT_CODE',\n",
       " 'SCHOOL_CODE',\n",
       " 'GRADE_GROUP',\n",
       " 'CHARTER_IND',\n",
       " 'DISTRICT_NAME',\n",
       " 'SCHOOL_NAME',\n",
       " 'TEST_SUBJECT',\n",
       " 'TEST_RESULT',\n",
       " 'TEST_RESULT_CODE',\n",
       " 'COLLEGE_READINESS',\n",
       " 'TEST_GROUP',\n",
       " 'GROUP_BY',\n",
       " 'GROUP_BY_VALUE',\n",
       " 'STUDENT_COUNT',\n",
       " 'AVERAGE_SCORE',\n",
       " 'GROUP_COUNT',\n",
       " 'UNIQUE_CODE']"
      ]
     },
     "execution_count": 178,
     "metadata": {},
     "output_type": "execute_result"
    }
   ],
   "source": [
    "list(act_df)"
   ]
  },
  {
   "cell_type": "code",
   "execution_count": 57,
   "metadata": {},
   "outputs": [
    {
     "data": {
      "text/plain": [
       "All Students         66079\n",
       "Not Migrant          65206\n",
       "Male                 62304\n",
       "Female               61809\n",
       "Not Econ Disadv      59006\n",
       "Econ Disadv          54725\n",
       "SwoD                 54245\n",
       "Eng Prof             53478\n",
       "White                51631\n",
       "[Data Suppressed]    43498\n",
       "SwD                  40844\n",
       "Hispanic             32761\n",
       "Two or More          22142\n",
       "Black                21118\n",
       "Asian                19730\n",
       "Amer Indian          11519\n",
       "ELL/LEP              10906\n",
       "EL                    5059\n",
       "Pacific Isle          2208\n",
       "Unknown                777\n",
       "Migrant                683\n",
       "Name: GROUP_BY_VALUE, dtype: int64"
      ]
     },
     "execution_count": 57,
     "metadata": {},
     "output_type": "execute_result"
    }
   ],
   "source": [
    "act_df['GROUP_BY_VALUE'].value_counts()"
   ]
  },
  {
   "cell_type": "code",
   "execution_count": 100,
   "metadata": {},
   "outputs": [
    {
     "data": {
      "text/plain": [
       "(66079, 21)"
      ]
     },
     "execution_count": 100,
     "metadata": {},
     "output_type": "execute_result"
    }
   ],
   "source": [
    "all_act_df = act_df.loc[act_df['GROUP_BY_VALUE'] == \"All Students\", :]\n",
    "all_act_df.shape"
   ]
  },
  {
   "cell_type": "code",
   "execution_count": 101,
   "metadata": {},
   "outputs": [
    {
     "name": "stderr",
     "output_type": "stream",
     "text": [
      "/usr/local/lib/python3.7/site-packages/pandas/core/indexing.py:966: SettingWithCopyWarning: \n",
      "A value is trying to be set on a copy of a slice from a DataFrame.\n",
      "Try using .loc[row_indexer,col_indexer] = value instead\n",
      "\n",
      "See the caveats in the documentation: https://pandas.pydata.org/pandas-docs/stable/user_guide/indexing.html#returning-a-view-versus-a-copy\n",
      "  self.obj[item] = s\n"
     ]
    }
   ],
   "source": [
    "all_act_df.loc[all_act_df['TEST_SUBJECT'] == \"Combined\", \"TEST_SUBJECT\"] = \"Composite\""
   ]
  },
  {
   "cell_type": "code",
   "execution_count": 142,
   "metadata": {},
   "outputs": [],
   "source": [
    "my_cols = ['SCHOOL_YEAR', 'COUNTY', 'DISTRICT_NAME', 'SCHOOL_NAME', 'STUDENT_COUNT', 'AVERAGE_SCORE', 'GROUP_COUNT']"
   ]
  },
  {
   "cell_type": "code",
   "execution_count": 143,
   "metadata": {},
   "outputs": [],
   "source": [
    "comb_df = all_act_df.loc[all_act_df['TEST_SUBJECT'] == \"Composite\", my_cols]"
   ]
  },
  {
   "cell_type": "code",
   "execution_count": 144,
   "metadata": {},
   "outputs": [
    {
     "data": {
      "text/plain": [
       "(4119, 7)"
      ]
     },
     "execution_count": 144,
     "metadata": {},
     "output_type": "execute_result"
    }
   ],
   "source": [
    "comb_df.shape"
   ]
  },
  {
   "cell_type": "code",
   "execution_count": 145,
   "metadata": {},
   "outputs": [
    {
     "data": {
      "text/html": [
       "<div>\n",
       "<style scoped>\n",
       "    .dataframe tbody tr th:only-of-type {\n",
       "        vertical-align: middle;\n",
       "    }\n",
       "\n",
       "    .dataframe tbody tr th {\n",
       "        vertical-align: top;\n",
       "    }\n",
       "\n",
       "    .dataframe thead th {\n",
       "        text-align: right;\n",
       "    }\n",
       "</style>\n",
       "<table border=\"1\" class=\"dataframe\">\n",
       "  <thead>\n",
       "    <tr style=\"text-align: right;\">\n",
       "      <th></th>\n",
       "      <th>SCHOOL_YEAR</th>\n",
       "      <th>COUNTY</th>\n",
       "      <th>DISTRICT_NAME</th>\n",
       "      <th>SCHOOL_NAME</th>\n",
       "      <th>STUDENT_COUNT</th>\n",
       "      <th>AVERAGE_SCORE</th>\n",
       "      <th>GROUP_COUNT</th>\n",
       "    </tr>\n",
       "  </thead>\n",
       "  <tbody>\n",
       "    <tr>\n",
       "      <th>1052</th>\n",
       "      <td>2014-15</td>\n",
       "      <td>Clark</td>\n",
       "      <td>Abbotsford</td>\n",
       "      <td>Abbotsford Middle/Senior High</td>\n",
       "      <td>46</td>\n",
       "      <td>16.22</td>\n",
       "      <td>47</td>\n",
       "    </tr>\n",
       "    <tr>\n",
       "      <th>1054</th>\n",
       "      <td>2014-15</td>\n",
       "      <td>Clark</td>\n",
       "      <td>Abbotsford</td>\n",
       "      <td>Abbotsford Middle/Senior High</td>\n",
       "      <td>46</td>\n",
       "      <td>18.48</td>\n",
       "      <td>47</td>\n",
       "    </tr>\n",
       "    <tr>\n",
       "      <th>1555</th>\n",
       "      <td>2014-15</td>\n",
       "      <td>Adams</td>\n",
       "      <td>Adams-Friendship Area</td>\n",
       "      <td>Adams-Friendship High</td>\n",
       "      <td>109</td>\n",
       "      <td>15.73</td>\n",
       "      <td>114</td>\n",
       "    </tr>\n",
       "    <tr>\n",
       "      <th>1557</th>\n",
       "      <td>2014-15</td>\n",
       "      <td>Adams</td>\n",
       "      <td>Adams-Friendship Area</td>\n",
       "      <td>Adams-Friendship High</td>\n",
       "      <td>110</td>\n",
       "      <td>17.29</td>\n",
       "      <td>114</td>\n",
       "    </tr>\n",
       "    <tr>\n",
       "      <th>2027</th>\n",
       "      <td>2014-15</td>\n",
       "      <td>Green</td>\n",
       "      <td>Albany</td>\n",
       "      <td>Albany High</td>\n",
       "      <td>20</td>\n",
       "      <td>17.25</td>\n",
       "      <td>21</td>\n",
       "    </tr>\n",
       "  </tbody>\n",
       "</table>\n",
       "</div>"
      ],
      "text/plain": [
       "     SCHOOL_YEAR COUNTY          DISTRICT_NAME                    SCHOOL_NAME  \\\n",
       "1052     2014-15  Clark             Abbotsford  Abbotsford Middle/Senior High   \n",
       "1054     2014-15  Clark             Abbotsford  Abbotsford Middle/Senior High   \n",
       "1555     2014-15  Adams  Adams-Friendship Area          Adams-Friendship High   \n",
       "1557     2014-15  Adams  Adams-Friendship Area          Adams-Friendship High   \n",
       "2027     2014-15  Green                 Albany                    Albany High   \n",
       "\n",
       "     STUDENT_COUNT AVERAGE_SCORE GROUP_COUNT  \n",
       "1052            46         16.22          47  \n",
       "1054            46         18.48          47  \n",
       "1555           109         15.73         114  \n",
       "1557           110         17.29         114  \n",
       "2027            20         17.25          21  "
      ]
     },
     "execution_count": 145,
     "metadata": {},
     "output_type": "execute_result"
    }
   ],
   "source": [
    "comb_df.head()"
   ]
  },
  {
   "cell_type": "code",
   "execution_count": 155,
   "metadata": {},
   "outputs": [],
   "source": [
    "adf_sm = achieve_df[['School Name', 'School Year', 'Percent White']]"
   ]
  },
  {
   "cell_type": "code",
   "execution_count": 174,
   "metadata": {},
   "outputs": [
    {
     "data": {
      "text/plain": [
       "564"
      ]
     },
     "execution_count": 174,
     "metadata": {},
     "output_type": "execute_result"
    }
   ],
   "source": [
    "tmp_df['School Name'].nunique()"
   ]
  },
  {
   "cell_type": "code",
   "execution_count": null,
   "metadata": {},
   "outputs": [],
   "source": [
    "#TODO\n",
    "#Bin by size of city for n=10"
   ]
  },
  {
   "cell_type": "code",
   "execution_count": 183,
   "metadata": {},
   "outputs": [
    {
     "data": {
      "text/plain": [
       "0    208\n",
       "1    565\n",
       "2    408\n",
       "3    145\n",
       "4    149\n",
       "Name: School Enrollment, dtype: object"
      ]
     },
     "execution_count": 183,
     "metadata": {},
     "output_type": "execute_result"
    }
   ],
   "source": [
    "achieve_df['School Enrollment'].head()"
   ]
  },
  {
   "cell_type": "code",
   "execution_count": 157,
   "metadata": {},
   "outputs": [
    {
     "data": {
      "text/plain": [
       "['School Year',\n",
       " 'District Code',\n",
       " 'School Code',\n",
       " 'District Name',\n",
       " 'School Name',\n",
       " 'Overall Accountability Score',\n",
       " 'Overall Accountability Rating',\n",
       " 'Lowest Grade in the School',\n",
       " 'Highest Grade in the School',\n",
       " 'School Configuration Code',\n",
       " 'School Type',\n",
       " 'School Enrollment',\n",
       " 'Percent American Indian or Alaskan Native',\n",
       " 'Percent Asian or Pacific Islander',\n",
       " 'Percent Black not Hispanic',\n",
       " 'Percent Hispanic',\n",
       " 'Percent White not Hispanic',\n",
       " 'Percent Students with Disabilities',\n",
       " 'Percent Economically Disadvantaged',\n",
       " 'Percent Limited English Proficient',\n",
       " 'School Student Achievement Score',\n",
       " 'School Reading Achievement Score',\n",
       " 'School Mathematics Achievement Score',\n",
       " 'School Student Growth Score',\n",
       " 'School Reading Growth Score',\n",
       " 'School Mathematics Growth Score',\n",
       " 'School Closing Gaps Score',\n",
       " 'School Reading Gap Score',\n",
       " 'School Mathematics Gap Score',\n",
       " 'School Graduation Gap Score',\n",
       " 'School On-Track and Postsecondary Readiness Score',\n",
       " 'School Graduation Rate Score',\n",
       " 'School Attendance Rate Score',\n",
       " 'School Third-Grade Reading Achievement Score',\n",
       " 'School Eighth-Grade Mathematics Achievement Score',\n",
       " 'School ACT Participation and Performance Score',\n",
       " 'School Student Achievement Max Score',\n",
       " 'School Reading Achievement Max Score',\n",
       " 'School Mathematics Achievement Max Score',\n",
       " 'School Student Growth Max Score',\n",
       " 'School Reading Growth Max Score',\n",
       " 'School Mathematics Growth Max Score',\n",
       " 'School Closing Gaps Max Score',\n",
       " 'School Reading Achievement Gap Max Score',\n",
       " 'School Mathematics Achievement Gap Max Score',\n",
       " 'School Graduation Gap Max Score',\n",
       " 'School On-Track and Postsecondary Readiness Max Score',\n",
       " 'School Graduation Rate Max Score',\n",
       " 'School Attendance Rate Max Score',\n",
       " 'School Third-Grade Reading Achievement Max Score',\n",
       " 'School Eighth-Grade Mathematics Achievement Max Score',\n",
       " 'School ACT Participation and Performance Max Score',\n",
       " 'State Student Achievement Score',\n",
       " 'State Reading Achievement Score',\n",
       " 'State Mathematics Achievement Score',\n",
       " 'State Student Growth Score',\n",
       " 'State Reading Growth Score',\n",
       " 'State Mathematics Growth Score',\n",
       " 'State Closing Gaps Score',\n",
       " 'State Reading Achievement Gaps Score',\n",
       " 'State Mathematics Achievement Gaps Score',\n",
       " 'State Graduation Gaps Score',\n",
       " 'State On-Track and Postsecondary Readiness Score',\n",
       " 'State Graduation Rate Score',\n",
       " 'State Attendance Rate Score',\n",
       " 'State Third-Grade Reading Achievement Score',\n",
       " 'State Eighth-Grade Mathematics Achievement Score',\n",
       " 'State ACT Participation and Performance Score',\n",
       " 'State Student Achievement Max Score',\n",
       " 'State Reading Achievement Max Score',\n",
       " 'State Mathematics Achievement Max Score',\n",
       " 'State Student Growth Max Score',\n",
       " 'State Reading Growth Max Score',\n",
       " 'State Mathematics Growth Max Score',\n",
       " 'State Closing Gaps Max Score',\n",
       " 'State Reading Achievement Gaps Max Score',\n",
       " 'State Mathematics Achievement Gaps Max Score',\n",
       " 'State Graduation Gaps Max Score',\n",
       " 'State On-Track and Postsecondary Readiness Max Score',\n",
       " 'State Graduation Rate Max Score',\n",
       " 'State Attendance Rate Max Score',\n",
       " 'State Third-Grade Reading Achievement Max Score',\n",
       " 'State Eighth-Grade Mathematics Achievement Max Score',\n",
       " 'State ACT Participation and Performance Max Score',\n",
       " 'Student Engagment Indicators Deduction',\n",
       " 'Test Participation Lowest Group Rate Deduction',\n",
       " 'Absenteeism Rate Deduction',\n",
       " 'Dropout Rate Deduction',\n",
       " 'School Percent Proficient Reading 2009',\n",
       " 'State Percent Proficient Reading 2009',\n",
       " 'School Percent Proficient Mathematics 2009',\n",
       " 'State Percent Proficient Mathematics 2009',\n",
       " 'School Percent Proficient Reading 2010',\n",
       " 'State Percent Proficient Reading 2010',\n",
       " 'School Percent Proficient Mathematics 2010',\n",
       " 'State Percent Proficient Mathematics 2010',\n",
       " 'School Percent Proficient Reading 2011',\n",
       " 'State Percent Proficient Reading 2011',\n",
       " 'School Percent Proficient Mathematics 2011',\n",
       " 'State Percent Proficient Mathematics 2011',\n",
       " 'School Percent Proficient Reading 2012',\n",
       " 'State Percent Proficient Reading 2012',\n",
       " 'School Percent Proficient Mathematics 2012',\n",
       " 'State Percent Proficient Mathematics 2012',\n",
       " 'School Percent Proficient Reading 2013',\n",
       " 'State Percent Proficient Reading 2013',\n",
       " 'School Percent Proficient Mathematics 2013',\n",
       " 'State Percent Proficient Mathematics 2013',\n",
       " 'Notes',\n",
       " 'Feeder school note',\n",
       " 'Single-school district note',\n",
       " 'Grade Band for Comparison Schools',\n",
       " 'CESA',\n",
       " 'Locale description',\n",
       " 'Agency type',\n",
       " 'Charter school indicator',\n",
       " 'Alternative school indicator',\n",
       " 'District enrollment',\n",
       " 'District Enrollment',\n",
       " 'Percent Asian',\n",
       " 'Percent Black or African American',\n",
       " 'Percent Hispanic/Latino',\n",
       " 'Percent Native Hawaiian or Other Pacific Islander',\n",
       " 'Percent White',\n",
       " 'Percent Two or More Races',\n",
       " 'Percent School Choice Program',\n",
       " 'Percent Open Enrollment',\n",
       " 'School ELA Achievement Score',\n",
       " 'School ELA Growth Score',\n",
       " 'School ELA Gap Score',\n",
       " 'School Third-Grade ELA Achievement Score',\n",
       " 'School ELA Achievement Max Score',\n",
       " 'School ELA Growth Max Score',\n",
       " 'School ELA Achievement Gap Max Score',\n",
       " 'School Third-Grade ELA Achievement Max Score',\n",
       " 'State ELA Achievement Score',\n",
       " 'State ELA Growth Score',\n",
       " 'State ELA Achievement Gaps Score',\n",
       " 'State Third-Grade ELA Achievement Score',\n",
       " 'State ELA Achievement Max Score',\n",
       " 'State ELA Growth Max Score',\n",
       " 'State ELA Achievement Gaps Max Score',\n",
       " 'State Third-Grade ELA Achievement Max Score',\n",
       " 'Student Engagement Indicators Deduction',\n",
       " 'School Percent Proficient ELA 2012',\n",
       " 'State Percent Proficient ELA 2012',\n",
       " 'School Percent Proficient ELA 2013',\n",
       " 'State Percent Proficient ELA 2013',\n",
       " 'School Percent Proficient ELA 2014',\n",
       " 'State Percent Proficient ELA 2014',\n",
       " 'School Percent Proficient Mathematics 2014',\n",
       " 'State Percent Proficient Mathematics 2014',\n",
       " 'School Percent Proficient ELA 2015',\n",
       " 'State Percent Proficient ELA 2015',\n",
       " 'School Percent Proficient Mathematics 2015',\n",
       " 'State Percent Proficient Mathematics 2015',\n",
       " 'School Percent Proficient ELA 2016',\n",
       " 'State Percent Proficient ELA 2016',\n",
       " 'School Percent Proficient Mathematics 2016',\n",
       " 'State Percent Proficient Mathematics 2016',\n",
       " 'Notes.1',\n",
       " 'Open enrollment note',\n",
       " 'School choice program note',\n",
       " 'City',\n",
       " 'Virtual school indicator',\n",
       " 'School 4 Year Graduation Gap Score',\n",
       " 'School 6 Year Graduation Gap Score',\n",
       " 'State 4 Year Graduation Gaps Max Score',\n",
       " 'State 6 Year Graduation Gaps Max Score',\n",
       " 'Test Partcipation ELA 2019 All Students',\n",
       " 'Test Partcipation ELA MULTI-YEAR All Students',\n",
       " 'Test Partcipation Mathematics 2019 All Students',\n",
       " 'Test Partcipation Mathematics MULTI-YEAR All Students',\n",
       " 'Subgroup with lowest test participation rate 2019',\n",
       " 'Test Partcipation ELA 2019 lowest rate subgroup',\n",
       " 'Test Partcipation ELA MULTI-YEAR lowest rate subgroup',\n",
       " 'Test Partcipation Mathematics 2019 lowest rate subgroup',\n",
       " 'Test Partcipation Mathematics MULTI-YEAR lowest rate subgroup',\n",
       " 'Score weighting Achievement Priority Area',\n",
       " 'Score weighting Growth Priority Area',\n",
       " 'Score weighting Closing Gaps Priority Area',\n",
       " 'Score weighting Ontrack Priority Area',\n",
       " 'School Percent Proficient ELA 2017',\n",
       " 'State Percent Proficient ELA 2017',\n",
       " 'School Percent Proficient Mathematics 2017',\n",
       " 'State Percent Proficient Mathematics 2017',\n",
       " 'School Percent Proficient ELA 2018',\n",
       " 'State Percent Proficient ELA 2018',\n",
       " 'School Percent Proficient Mathematics 2018',\n",
       " 'State Percent Proficient Mathematics 2018',\n",
       " 'School Percent Proficient ELA 2019',\n",
       " 'State Percent Proficient ELA 2019',\n",
       " 'School Percent Proficient Mathematics 2019',\n",
       " 'State Percent Proficient Mathematics 2019',\n",
       " 'Change Outlier Note',\n",
       " 'Percent Choice Note',\n",
       " 'Accountability Resource Link',\n",
       " 'No Score Note',\n",
       " 'Report Card Type',\n",
       " 'Percent English Learners',\n",
       " 'School Achievement Score',\n",
       " 'School Growth Score',\n",
       " 'School Target Group Outcomes Score',\n",
       " 'School Target Group Achievement Score',\n",
       " 'School Target Group Growth Score',\n",
       " 'School Target Group Chronic Absenteeism Score',\n",
       " 'School Target Group Graduation Score',\n",
       " 'School Target Group Attendance Score',\n",
       " 'School On-Track to Graduation Score',\n",
       " 'School Chronic Absenteeism Rate Score',\n",
       " 'School 3rd Grade ELA Achievement Score',\n",
       " 'School 8th Grade Mathematics Achievement Score',\n",
       " 'State Chronic Absenteeism Rate Score',\n",
       " 'State 3rd Grade ELA Achievement Score',\n",
       " 'State 8th Grade Mathematics Achievement Score',\n",
       " 'Test Participation ELA 2021 All Students',\n",
       " 'Test Participation Mathematics 2021 All Students',\n",
       " 'Subgroup with lowest ELA test participation rate 2021',\n",
       " 'Test Participation ELA 2021 lowest rate subgroup',\n",
       " 'Subgroup with lowest math test participation rate 2021',\n",
       " 'Test Participation Mathematics 2021 lowest rate subgroup',\n",
       " 'Score weighting Target Group Outcomes Priority Area',\n",
       " 'Score weighting On-Track Priority Area',\n",
       " 'School Percent Proficient ELA 2021',\n",
       " 'State Percent Proficient ELA 2021',\n",
       " 'School Percent Proficient Mathematics 2021',\n",
       " 'State Percent Proficient Mathematics 2021',\n",
       " 'Chartering authority',\n",
       " 'Test Partcipation ELA 2018 All Students',\n",
       " 'Test Partcipation Mathematics 2018 All Students',\n",
       " 'Subgroup with lowest test participation rate 2018',\n",
       " 'Test Partcipation ELA 2018 lowest rate subgroup',\n",
       " 'Test Partcipation Mathematics 2018 lowest rate subgroup']"
      ]
     },
     "execution_count": 157,
     "metadata": {},
     "output_type": "execute_result"
    }
   ],
   "source": [
    "list(achieve_df)"
   ]
  },
  {
   "cell_type": "code",
   "execution_count": 161,
   "metadata": {},
   "outputs": [
    {
     "data": {
      "text/plain": [
       "((3381, 10), (4119, 7))"
      ]
     },
     "execution_count": 161,
     "metadata": {},
     "output_type": "execute_result"
    }
   ],
   "source": [
    "tmp_df = comb_df.merge(adf_sm, left_on=['SCHOOL_NAME', 'SCHOOL_YEAR'], right_on=[\"School Name\", 'School Year'], )\n",
    "tmp_df.loc[:, 'Percent White'] = tmp_df['Percent White'].str.rstrip('%').astype('float') / 100.0\n",
    "tmp_df.shape, comb_df.shape\n"
   ]
  },
  {
   "cell_type": "code",
   "execution_count": 171,
   "metadata": {},
   "outputs": [
    {
     "data": {
      "image/png": "[encoded data removed]",
      "text/plain": [
       "<Figure size 432x288 with 1 Axes>"
      ]
     },
     "metadata": {
      "needs_background": "light"
     },
     "output_type": "display_data"
    }
   ],
   "source": [
    "plt.legend([],[], frameon=False)\n",
    "sns.scatterplot(x=tmp_df['Percent White'],\n",
    "                y=tmp_df['AVERAGE_SCORE'],\n",
    "                hue=tmp_df['SCHOOL_NAME'])\n",
    "plt.legend([],[], frameon=False)\n",
    "plt.show()"
   ]
  },
  {
   "cell_type": "code",
   "execution_count": 201,
   "metadata": {},
   "outputs": [],
   "source": [
    "fn_2010 = \"census_data/DECENNIALPL2010.P2_data_with_overlays_2022-02-13T104628.csv\"\n",
    "fn_2020 = \"census_data/DECENNIALPL2020.P2_data_with_overlays_2022-02-13T104628.csv\"\n",
    "\n",
    "cens_2010 = pd.read_csv(data_path/fn_2010, skiprows=1)\n",
    "cens_2020 = pd.read_csv(data_path/fn_2020, skiprows=1)"
   ]
  },
  {
   "cell_type": "code",
   "execution_count": 225,
   "metadata": {},
   "outputs": [],
   "source": [
    "cens_2020_alone = cens_2020.filter(regex=r'alone$', axis=1) #Filter out 2 or more races data\n",
    "cens_2020_alone.columns = cens_2020_alone.columns.str.replace(' !!Total:!!Not Hispanic or Latino:!!Population of one race:!!', \"\")"
   ]
  },
  {
   "cell_type": "code",
   "execution_count": 226,
   "metadata": {},
   "outputs": [],
   "source": [
    "cens_2020_standard = cens_2020[['Geographic Area Name', ' !!Total:', ' !!Total:!!Hispanic or Latino', ' !!Total:!!Not Hispanic or Latino:']]"
   ]
  },
  {
   "cell_type": "code",
   "execution_count": 227,
   "metadata": {},
   "outputs": [],
   "source": [
    "cenc_2020 = pd.concat([cens_2020_standard, cens_2020_alone], axis=1)"
   ]
  },
  {
   "cell_type": "code",
   "execution_count": 232,
   "metadata": {},
   "outputs": [],
   "source": [
    "cenc_2020.shape\n",
    "cenc_2020.columns = cenc_2020.columns.str.replace(\" !!\", \"\")\n",
    "cenc_2020.columns = cenc_2020.columns.str.replace(\"Total:!!\", \"\")\n",
    "cenc_2020.columns = cenc_2020.columns.str.replace(\":\", \"\")"
   ]
  },
  {
   "cell_type": "code",
   "execution_count": 238,
   "metadata": {},
   "outputs": [],
   "source": [
    "cenc_2020_pct = cenc_2020.drop('Geographic Area Name', axis=1).div(cenc_2020.Total, axis=0) \n",
    "cenc_2020_pct = pd.concat([cenc_2020['Geographic Area Name'], cenc_2020_pct], axis=1)"
   ]
  },
  {
   "cell_type": "code",
   "execution_count": 241,
   "metadata": {},
   "outputs": [
    {
     "data": {
      "text/plain": [
       "count    804.000000\n",
       "mean       0.869981\n",
       "std        0.149124\n",
       "min        0.000000\n",
       "25%        0.866515\n",
       "50%        0.907650\n",
       "75%        0.937524\n",
       "max        1.000000\n",
       "Name: White alone, dtype: float64"
      ]
     },
     "execution_count": 241,
     "metadata": {},
     "output_type": "execute_result"
    }
   ],
   "source": [
    "cenc_2020_pct['White alone'].describe()"
   ]
  },
  {
   "cell_type": "code",
   "execution_count": null,
   "metadata": {},
   "outputs": [],
   "source": [
    "#Bin by white alone"
   ]
  }
 ],
 "metadata": {
  "kernelspec": {
   "display_name": "Python 3",
   "language": "python",
   "name": "python3"
  },
  "language_info": {
   "codemirror_mode": {
    "name": "ipython",
    "version": 3
   },
   "file_extension": ".py",
   "mimetype": "text/x-python",
   "name": "python",
   "nbconvert_exporter": "python",
   "pygments_lexer": "ipython3",
   "version": "3.7.7"
  }
 },
 "nbformat": 4,
 "nbformat_minor": 4
}
